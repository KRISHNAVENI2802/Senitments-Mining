{
 "cells": [
  {
   "cell_type": "markdown",
   "metadata": {},
   "source": [
    "# Cluster tweets into groups -> Topics Sentiment Analysis"
   ]
  },
  {
   "cell_type": "code",
   "execution_count": 2,
   "metadata": {},
   "outputs": [],
   "source": [
    "import pandas as pd\n",
    "import os\n",
    "import numpy as np\n",
    "import gensim as gensim\n",
    "from sklearn import cluster\n",
    "from sklearn import metrics\n",
    "import matplotlib.pyplot as plt"
   ]
  },
  {
   "cell_type": "code",
   "execution_count": 3,
   "metadata": {},
   "outputs": [],
   "source": [
    "PROCESSED_DATASET = \"./processed_dataset\"\n",
    "TRAIN_CHUNK = 50000\n",
    "VAL_CHUNK = 10000"
   ]
  },
  {
   "cell_type": "code",
   "execution_count": 4,
   "metadata": {},
   "outputs": [],
   "source": [
    "def cosine_function(x,y):\n",
    "    c = np.dot(x,y)\n",
    "    norm_a = np.linalg.norm(x)\n",
    "    norm_b = np.linalg.norm(y)\n",
    "    cosine_val = c/((norm_a)*(norm_b))\n",
    "    return(cosine_val)\n",
    "\n",
    "def cluster_summary(cosine_similarity,cluster_number):\n",
    "    print('Summary Statistics of Cosine Similairty Distribution CLUSTER '+ str(cluster_number) +' --------->')\n",
    "    print()\n",
    "    print('Average Cosine similarity :', np.mean(cosine_similarity))\n",
    "    print('Max Cosine Similarity :', max(cosine_similarity))\n",
    "    print('Min Cosine Similarity :',min(cosine_similarity))\n",
    "    print('Standard Deviation of the Cosine similarity Distribution :',np.std(cosine_similarity))\n",
    "\n",
    "    x = np.arange(0,max(cosine_similarity), 0.02)\n",
    "    y = cosine_similarity\n",
    "    plt.hist(y,bins =x,histtype = 'barstacked',color = 'green')\n",
    "    plt.xlabel('[Cosine Values]',color = 'blue')\n",
    "    plt.ylabel('[Number of Tweets]',color = 'blue')\n",
    "    plt.title('[Cosine Distribution for Cluster '+str(cluster_number)+']',color = 'blue')\n",
    "    plt.show()"
   ]
  },
  {
   "cell_type": "code",
   "execution_count": 6,
   "metadata": {},
   "outputs": [],
   "source": [
    "df_train = pd.read_csv(os.path.join(PROCESSED_DATASET, \"train_set_labels.csv\"), chunksize=TRAIN_CHUNK)\n",
    "df_val = pd.read_csv(os.path.join(PROCESSED_DATASET, \"val_set_labels.csv\"), chunksize=VAL_CHUNK)\n",
    "df_tr_chunks = [chunk for chunk in df_train]\n",
    "df_val_chunks = [chunk for chunk in df_val]\n",
    "df_tweets = pd.concat([df_tr_chunks[0], df_val_chunks[0]])"
   ]
  },
  {
   "cell_type": "code",
   "execution_count": 16,
   "metadata": {},
   "outputs": [
    {
     "name": "stderr",
     "output_type": "stream",
     "text": [
      "/home/amit/.local/lib/python3.6/site-packages/ipykernel_launcher.py:2: DeprecationWarning: Call to deprecated `wv` (Attribute will be removed in 4.0.0, use self instead).\n",
      "  \n"
     ]
    },
    {
     "name": "stdout",
     "output_type": "stream",
     "text": [
      "38369\n"
     ]
    }
   ],
   "source": [
    "model = gensim.models.KeyedVectors.load_word2vec_format('./GoogleNews-vectors-negative300.bin', binary=True)\n",
    "word_vectors = model.wv\n",
    "\n",
    "df_positive = df_tweets[df_tweets[\"label\"] == 1]\n",
    "df_negative = df_tweets[df_tweets[\"label\"] == 0]\n",
    "print(len(df_negative))\n",
    "\n",
    "pos_sent_dict = {}\n",
    "neg_sent_dict = {}\n",
    "\n",
    "# Generate positive tweets vector representation\n",
    "for idx, tweet in enumerate(df_positive[\"Processed_text\"]):\n",
    "    if type(tweet) is str:\n",
    "        list_vec = []\n",
    "        sum_vec = np.zeros(300)\n",
    "        for word in tweet.split(\" \"):\n",
    "            if word in word_vectors.vocab:\n",
    "                list_vec.append(model[word])\n",
    "\n",
    "        if len(list_vec) > 0:\n",
    "            # Average the list of word_vectors\n",
    "            for vec in list_vec:\n",
    "                sum_vec = sum_vec + vec\n",
    "            sentence_vec = np.divide(sum_vec, len(list_vec))\n",
    "            pos_sent_dict[f\"{idx}\"] = [sentence_vec, tweet]\n",
    "\n",
    "# Generate negative tweets vector representation\n",
    "for idx, tweet in enumerate(df_negative[\"Processed_text\"]):\n",
    "    if type(tweet) is str:\n",
    "        list_vec = []\n",
    "        for word in tweet.split(\" \"):\n",
    "            if word in word_vectors.vocab:\n",
    "                list_vec.append(model[word])\n",
    "        if len(list_vec) > 0:\n",
    "            # Average the list of word_vectors\n",
    "            for vec in list_vec:\n",
    "                sum_vec = sum_vec + vec\n",
    "            sentence_vec = np.divide(sum_vec, len(list_vec))\n",
    "            neg_sent_dict[f\"{idx}\"] = [sentence_vec, tweet]"
   ]
  },
  {
   "cell_type": "markdown",
   "metadata": {},
   "source": [
    "## Positive Tweets Clustering\n"
   ]
  },
  {
   "cell_type": "code",
   "execution_count": 9,
   "metadata": {},
   "outputs": [
    {
     "name": "stderr",
     "output_type": "stream",
     "text": [
      "/home/amit/anaconda3/envs/pytorchp36/lib/python3.6/site-packages/sklearn/cluster/_kmeans.py:974: FutureWarning: 'n_jobs' was deprecated in version 0.23 and will be removed in 0.25.\n",
      "  \" removed in 0.25.\", FutureWarning)\n",
      "/home/amit/anaconda3/envs/pytorchp36/lib/python3.6/site-packages/sklearn/cluster/_kmeans.py:974: FutureWarning: 'n_jobs' was deprecated in version 0.23 and will be removed in 0.25.\n",
      "  \" removed in 0.25.\", FutureWarning)\n",
      "/home/amit/anaconda3/envs/pytorchp36/lib/python3.6/site-packages/sklearn/cluster/_kmeans.py:974: FutureWarning: 'n_jobs' was deprecated in version 0.23 and will be removed in 0.25.\n",
      "  \" removed in 0.25.\", FutureWarning)\n",
      "/home/amit/anaconda3/envs/pytorchp36/lib/python3.6/site-packages/sklearn/cluster/_kmeans.py:974: FutureWarning: 'n_jobs' was deprecated in version 0.23 and will be removed in 0.25.\n",
      "  \" removed in 0.25.\", FutureWarning)\n",
      "/home/amit/anaconda3/envs/pytorchp36/lib/python3.6/site-packages/sklearn/cluster/_kmeans.py:974: FutureWarning: 'n_jobs' was deprecated in version 0.23 and will be removed in 0.25.\n",
      "  \" removed in 0.25.\", FutureWarning)\n",
      "/home/amit/anaconda3/envs/pytorchp36/lib/python3.6/site-packages/sklearn/cluster/_kmeans.py:974: FutureWarning: 'n_jobs' was deprecated in version 0.23 and will be removed in 0.25.\n",
      "  \" removed in 0.25.\", FutureWarning)\n",
      "/home/amit/anaconda3/envs/pytorchp36/lib/python3.6/site-packages/sklearn/cluster/_kmeans.py:974: FutureWarning: 'n_jobs' was deprecated in version 0.23 and will be removed in 0.25.\n",
      "  \" removed in 0.25.\", FutureWarning)\n",
      "/home/amit/anaconda3/envs/pytorchp36/lib/python3.6/site-packages/sklearn/cluster/_kmeans.py:974: FutureWarning: 'n_jobs' was deprecated in version 0.23 and will be removed in 0.25.\n",
      "  \" removed in 0.25.\", FutureWarning)\n",
      "/home/amit/anaconda3/envs/pytorchp36/lib/python3.6/site-packages/sklearn/cluster/_kmeans.py:974: FutureWarning: 'n_jobs' was deprecated in version 0.23 and will be removed in 0.25.\n",
      "  \" removed in 0.25.\", FutureWarning)\n",
      "/home/amit/anaconda3/envs/pytorchp36/lib/python3.6/site-packages/sklearn/cluster/_kmeans.py:974: FutureWarning: 'n_jobs' was deprecated in version 0.23 and will be removed in 0.25.\n",
      "  \" removed in 0.25.\", FutureWarning)\n",
      "/home/amit/anaconda3/envs/pytorchp36/lib/python3.6/site-packages/sklearn/cluster/_kmeans.py:974: FutureWarning: 'n_jobs' was deprecated in version 0.23 and will be removed in 0.25.\n",
      "  \" removed in 0.25.\", FutureWarning)\n",
      "/home/amit/anaconda3/envs/pytorchp36/lib/python3.6/site-packages/sklearn/cluster/_kmeans.py:974: FutureWarning: 'n_jobs' was deprecated in version 0.23 and will be removed in 0.25.\n",
      "  \" removed in 0.25.\", FutureWarning)\n",
      "/home/amit/anaconda3/envs/pytorchp36/lib/python3.6/site-packages/sklearn/cluster/_kmeans.py:974: FutureWarning: 'n_jobs' was deprecated in version 0.23 and will be removed in 0.25.\n",
      "  \" removed in 0.25.\", FutureWarning)\n",
      "/home/amit/anaconda3/envs/pytorchp36/lib/python3.6/site-packages/sklearn/cluster/_kmeans.py:974: FutureWarning: 'n_jobs' was deprecated in version 0.23 and will be removed in 0.25.\n",
      "  \" removed in 0.25.\", FutureWarning)\n",
      "/home/amit/anaconda3/envs/pytorchp36/lib/python3.6/site-packages/sklearn/cluster/_kmeans.py:974: FutureWarning: 'n_jobs' was deprecated in version 0.23 and will be removed in 0.25.\n",
      "  \" removed in 0.25.\", FutureWarning)\n",
      "/home/amit/anaconda3/envs/pytorchp36/lib/python3.6/site-packages/sklearn/cluster/_kmeans.py:974: FutureWarning: 'n_jobs' was deprecated in version 0.23 and will be removed in 0.25.\n",
      "  \" removed in 0.25.\", FutureWarning)\n",
      "/home/amit/anaconda3/envs/pytorchp36/lib/python3.6/site-packages/sklearn/cluster/_kmeans.py:974: FutureWarning: 'n_jobs' was deprecated in version 0.23 and will be removed in 0.25.\n",
      "  \" removed in 0.25.\", FutureWarning)\n",
      "/home/amit/anaconda3/envs/pytorchp36/lib/python3.6/site-packages/sklearn/cluster/_kmeans.py:974: FutureWarning: 'n_jobs' was deprecated in version 0.23 and will be removed in 0.25.\n",
      "  \" removed in 0.25.\", FutureWarning)\n",
      "/home/amit/anaconda3/envs/pytorchp36/lib/python3.6/site-packages/sklearn/cluster/_kmeans.py:974: FutureWarning: 'n_jobs' was deprecated in version 0.23 and will be removed in 0.25.\n",
      "  \" removed in 0.25.\", FutureWarning)\n",
      "/home/amit/anaconda3/envs/pytorchp36/lib/python3.6/site-packages/sklearn/cluster/_kmeans.py:974: FutureWarning: 'n_jobs' was deprecated in version 0.23 and will be removed in 0.25.\n",
      "  \" removed in 0.25.\", FutureWarning)\n",
      "/home/amit/anaconda3/envs/pytorchp36/lib/python3.6/site-packages/sklearn/cluster/_kmeans.py:974: FutureWarning: 'n_jobs' was deprecated in version 0.23 and will be removed in 0.25.\n",
      "  \" removed in 0.25.\", FutureWarning)\n",
      "/home/amit/anaconda3/envs/pytorchp36/lib/python3.6/site-packages/sklearn/cluster/_kmeans.py:974: FutureWarning: 'n_jobs' was deprecated in version 0.23 and will be removed in 0.25.\n",
      "  \" removed in 0.25.\", FutureWarning)\n",
      "/home/amit/anaconda3/envs/pytorchp36/lib/python3.6/site-packages/sklearn/cluster/_kmeans.py:974: FutureWarning: 'n_jobs' was deprecated in version 0.23 and will be removed in 0.25.\n",
      "  \" removed in 0.25.\", FutureWarning)\n",
      "/home/amit/anaconda3/envs/pytorchp36/lib/python3.6/site-packages/sklearn/cluster/_kmeans.py:974: FutureWarning: 'n_jobs' was deprecated in version 0.23 and will be removed in 0.25.\n",
      "  \" removed in 0.25.\", FutureWarning)\n",
      "/home/amit/anaconda3/envs/pytorchp36/lib/python3.6/site-packages/sklearn/cluster/_kmeans.py:974: FutureWarning: 'n_jobs' was deprecated in version 0.23 and will be removed in 0.25.\n",
      "  \" removed in 0.25.\", FutureWarning)\n",
      "/home/amit/anaconda3/envs/pytorchp36/lib/python3.6/site-packages/sklearn/cluster/_kmeans.py:974: FutureWarning: 'n_jobs' was deprecated in version 0.23 and will be removed in 0.25.\n",
      "  \" removed in 0.25.\", FutureWarning)\n",
      "/home/amit/anaconda3/envs/pytorchp36/lib/python3.6/site-packages/sklearn/cluster/_kmeans.py:974: FutureWarning: 'n_jobs' was deprecated in version 0.23 and will be removed in 0.25.\n",
      "  \" removed in 0.25.\", FutureWarning)\n",
      "/home/amit/anaconda3/envs/pytorchp36/lib/python3.6/site-packages/sklearn/cluster/_kmeans.py:974: FutureWarning: 'n_jobs' was deprecated in version 0.23 and will be removed in 0.25.\n",
      "  \" removed in 0.25.\", FutureWarning)\n",
      "/home/amit/anaconda3/envs/pytorchp36/lib/python3.6/site-packages/sklearn/cluster/_kmeans.py:974: FutureWarning: 'n_jobs' was deprecated in version 0.23 and will be removed in 0.25.\n",
      "  \" removed in 0.25.\", FutureWarning)\n",
      "/home/amit/anaconda3/envs/pytorchp36/lib/python3.6/site-packages/sklearn/cluster/_kmeans.py:974: FutureWarning: 'n_jobs' was deprecated in version 0.23 and will be removed in 0.25.\n",
      "  \" removed in 0.25.\", FutureWarning)\n",
      "/home/amit/anaconda3/envs/pytorchp36/lib/python3.6/site-packages/sklearn/cluster/_kmeans.py:974: FutureWarning: 'n_jobs' was deprecated in version 0.23 and will be removed in 0.25.\n",
      "  \" removed in 0.25.\", FutureWarning)\n",
      "/home/amit/anaconda3/envs/pytorchp36/lib/python3.6/site-packages/sklearn/cluster/_kmeans.py:974: FutureWarning: 'n_jobs' was deprecated in version 0.23 and will be removed in 0.25.\n",
      "  \" removed in 0.25.\", FutureWarning)\n",
      "/home/amit/anaconda3/envs/pytorchp36/lib/python3.6/site-packages/sklearn/cluster/_kmeans.py:974: FutureWarning: 'n_jobs' was deprecated in version 0.23 and will be removed in 0.25.\n",
      "  \" removed in 0.25.\", FutureWarning)\n",
      "/home/amit/anaconda3/envs/pytorchp36/lib/python3.6/site-packages/sklearn/cluster/_kmeans.py:974: FutureWarning: 'n_jobs' was deprecated in version 0.23 and will be removed in 0.25.\n",
      "  \" removed in 0.25.\", FutureWarning)\n",
      "/home/amit/anaconda3/envs/pytorchp36/lib/python3.6/site-packages/sklearn/cluster/_kmeans.py:974: FutureWarning: 'n_jobs' was deprecated in version 0.23 and will be removed in 0.25.\n",
      "  \" removed in 0.25.\", FutureWarning)\n",
      "/home/amit/anaconda3/envs/pytorchp36/lib/python3.6/site-packages/sklearn/cluster/_kmeans.py:974: FutureWarning: 'n_jobs' was deprecated in version 0.23 and will be removed in 0.25.\n",
      "  \" removed in 0.25.\", FutureWarning)\n",
      "/home/amit/anaconda3/envs/pytorchp36/lib/python3.6/site-packages/sklearn/cluster/_kmeans.py:974: FutureWarning: 'n_jobs' was deprecated in version 0.23 and will be removed in 0.25.\n",
      "  \" removed in 0.25.\", FutureWarning)\n",
      "/home/amit/anaconda3/envs/pytorchp36/lib/python3.6/site-packages/sklearn/cluster/_kmeans.py:974: FutureWarning: 'n_jobs' was deprecated in version 0.23 and will be removed in 0.25.\n",
      "  \" removed in 0.25.\", FutureWarning)\n"
     ]
    },
    {
     "name": "stderr",
     "output_type": "stream",
     "text": [
      "/home/amit/anaconda3/envs/pytorchp36/lib/python3.6/site-packages/sklearn/cluster/_kmeans.py:974: FutureWarning: 'n_jobs' was deprecated in version 0.23 and will be removed in 0.25.\n",
      "  \" removed in 0.25.\", FutureWarning)\n",
      "/home/amit/anaconda3/envs/pytorchp36/lib/python3.6/site-packages/sklearn/cluster/_kmeans.py:974: FutureWarning: 'n_jobs' was deprecated in version 0.23 and will be removed in 0.25.\n",
      "  \" removed in 0.25.\", FutureWarning)\n",
      "/home/amit/anaconda3/envs/pytorchp36/lib/python3.6/site-packages/sklearn/cluster/_kmeans.py:974: FutureWarning: 'n_jobs' was deprecated in version 0.23 and will be removed in 0.25.\n",
      "  \" removed in 0.25.\", FutureWarning)\n",
      "/home/amit/anaconda3/envs/pytorchp36/lib/python3.6/site-packages/sklearn/cluster/_kmeans.py:974: FutureWarning: 'n_jobs' was deprecated in version 0.23 and will be removed in 0.25.\n",
      "  \" removed in 0.25.\", FutureWarning)\n",
      "/home/amit/anaconda3/envs/pytorchp36/lib/python3.6/site-packages/sklearn/cluster/_kmeans.py:974: FutureWarning: 'n_jobs' was deprecated in version 0.23 and will be removed in 0.25.\n",
      "  \" removed in 0.25.\", FutureWarning)\n",
      "/home/amit/anaconda3/envs/pytorchp36/lib/python3.6/site-packages/sklearn/cluster/_kmeans.py:974: FutureWarning: 'n_jobs' was deprecated in version 0.23 and will be removed in 0.25.\n",
      "  \" removed in 0.25.\", FutureWarning)\n",
      "/home/amit/anaconda3/envs/pytorchp36/lib/python3.6/site-packages/sklearn/cluster/_kmeans.py:974: FutureWarning: 'n_jobs' was deprecated in version 0.23 and will be removed in 0.25.\n",
      "  \" removed in 0.25.\", FutureWarning)\n",
      "/home/amit/anaconda3/envs/pytorchp36/lib/python3.6/site-packages/sklearn/cluster/_kmeans.py:974: FutureWarning: 'n_jobs' was deprecated in version 0.23 and will be removed in 0.25.\n",
      "  \" removed in 0.25.\", FutureWarning)\n",
      "/home/amit/anaconda3/envs/pytorchp36/lib/python3.6/site-packages/sklearn/cluster/_kmeans.py:974: FutureWarning: 'n_jobs' was deprecated in version 0.23 and will be removed in 0.25.\n",
      "  \" removed in 0.25.\", FutureWarning)\n",
      "/home/amit/anaconda3/envs/pytorchp36/lib/python3.6/site-packages/sklearn/cluster/_kmeans.py:974: FutureWarning: 'n_jobs' was deprecated in version 0.23 and will be removed in 0.25.\n",
      "  \" removed in 0.25.\", FutureWarning)\n",
      "/home/amit/anaconda3/envs/pytorchp36/lib/python3.6/site-packages/sklearn/cluster/_kmeans.py:974: FutureWarning: 'n_jobs' was deprecated in version 0.23 and will be removed in 0.25.\n",
      "  \" removed in 0.25.\", FutureWarning)\n"
     ]
    },
    {
     "data": {
      "image/png": "[encoded data removed]",
      "text/plain": [
       "<Figure size 432x288 with 1 Axes>"
      ]
     },
     "metadata": {
      "needs_background": "light"
     },
     "output_type": "display_data"
    }
   ],
   "source": [
    "# Clustering Positive tweets\n",
    "\n",
    "# Use Elbow method to get the number of clusters\n",
    "# GAP statistics, computationally expensive, a good alternative\n",
    "\n",
    "if (1):\n",
    "    sse = {}\n",
    "    X = [pos_sent_dict[key][0] for key in pos_sent_dict.keys()]\n",
    "    for k in range(1, 50): \n",
    "        kmeans = cluster.KMeans(n_clusters=k, max_iter=300 , n_jobs = 6).fit(X)\n",
    "        labels = kmeans.labels_\n",
    "        # Inertia: Sum of distances of samples to their closest cluster center\n",
    "        sse[k] = kmeans.inertia_\n",
    "    plt.figure()\n",
    "    plt.plot(list(sse.keys()), list(sse.values()))\n",
    "    plt.xlabel(\"Number of cluster\")\n",
    "    plt.ylabel(\"SSE\")\n",
    "    plt.show()"
   ]
  },
  {
   "cell_type": "code",
   "execution_count": 18,
   "metadata": {},
   "outputs": [
    {
     "name": "stdout",
     "output_type": "stream",
     "text": [
      "Summary Statistics of Cosine Similairty Distribution CLUSTER 1 --------->\n",
      "\n",
      "Average Cosine similarity : 0.857861711433\n",
      "Max Cosine Similarity : 0.959785075656\n",
      "Min Cosine Similarity : 0.247634395779\n",
      "Standard Deviation of the Cosine similarity Distribution : 0.0818031860026\n"
     ]
    },
    {
     "data": {
      "image/png": "[encoded data removed]",
      "text/plain": [
       "<Figure size 432x288 with 1 Axes>"
      ]
     },
     "metadata": {
      "needs_background": "light"
     },
     "output_type": "display_data"
    },
    {
     "name": "stdout",
     "output_type": "stream",
     "text": [
      "Summary Statistics of Cosine Similairty Distribution CLUSTER 2 --------->\n",
      "\n",
      "Average Cosine similarity : 0.928639642877\n",
      "Max Cosine Similarity : 0.994759696498\n",
      "Min Cosine Similarity : 0.518939067363\n",
      "Standard Deviation of the Cosine similarity Distribution : 0.0778785951907\n"
     ]
    },
    {
     "data": {
      "image/png": "[encoded data removed]",
      "text/plain": [
       "<Figure size 432x288 with 1 Axes>"
      ]
     },
     "metadata": {
      "needs_background": "light"
     },
     "output_type": "display_data"
    },
    {
     "name": "stdout",
     "output_type": "stream",
     "text": [
      "Summary Statistics of Cosine Similairty Distribution CLUSTER 3 --------->\n",
      "\n",
      "Average Cosine similarity : 0.870396741434\n",
      "Max Cosine Similarity : 0.974457887255\n",
      "Min Cosine Similarity : 0.264085878318\n",
      "Standard Deviation of the Cosine similarity Distribution : 0.0729968736244\n"
     ]
    },
    {
     "data": {
      "image/png": "[encoded data removed]",
      "text/plain": [
       "<Figure size 432x288 with 1 Axes>"
      ]
     },
     "metadata": {
      "needs_background": "light"
     },
     "output_type": "display_data"
    },
    {
     "name": "stdout",
     "output_type": "stream",
     "text": [
      "Summary Statistics of Cosine Similairty Distribution CLUSTER 4 --------->\n",
      "\n",
      "Average Cosine similarity : 0.716028903077\n",
      "Max Cosine Similarity : 0.92989778111\n",
      "Min Cosine Similarity : 0.312188680918\n",
      "Standard Deviation of the Cosine similarity Distribution : 0.125892807702\n"
     ]
    },
    {
     "data": {
      "image/png": "[encoded data removed]",
      "text/plain": [
       "<Figure size 432x288 with 1 Axes>"
      ]
     },
     "metadata": {
      "needs_background": "light"
     },
     "output_type": "display_data"
    },
    {
     "name": "stdout",
     "output_type": "stream",
     "text": [
      "Summary Statistics of Cosine Similairty Distribution CLUSTER 5 --------->\n",
      "\n",
      "Average Cosine similarity : 0.752413225623\n",
      "Max Cosine Similarity : 0.942241696205\n",
      "Min Cosine Similarity : 0.0923973320761\n",
      "Standard Deviation of the Cosine similarity Distribution : 0.129854801115\n"
     ]
    },
    {
     "data": {
      "image/png": "[encoded data removed]",
      "text/plain": [
       "<Figure size 432x288 with 1 Axes>"
      ]
     },
     "metadata": {
      "needs_background": "light"
     },
     "output_type": "display_data"
    },
    {
     "name": "stdout",
     "output_type": "stream",
     "text": [
      "Summary Statistics of Cosine Similairty Distribution CLUSTER 6 --------->\n",
      "\n",
      "Average Cosine similarity : 0.751314937708\n",
      "Max Cosine Similarity : 0.950625152738\n",
      "Min Cosine Similarity : 0.229050481647\n",
      "Standard Deviation of the Cosine similarity Distribution : 0.128658338628\n"
     ]
    },
    {
     "data": {
      "image/png": "[encoded data removed]",
      "text/plain": [
       "<Figure size 432x288 with 1 Axes>"
      ]
     },
     "metadata": {
      "needs_background": "light"
     },
     "output_type": "display_data"
    }
   ],
   "source": [
    "NUM_CLUSTERS = 6\n",
    "kmeans = cluster.KMeans(n_clusters=NUM_CLUSTERS)\n",
    "kmeans.fit([pos_sent_dict[key][0] for key in pos_sent_dict.keys()])\n",
    "labels = kmeans.labels_\n",
    "\n",
    "# group_dict -> {\"0\":{\"id1\": vector, ...,  \"id2\": vector}}\n",
    "pos_group_dict = {}\n",
    "# group each of the sentence vectors into groups\n",
    "label_track = []\n",
    "\n",
    "for label, sent_key in zip(labels, [key for key in pos_sent_dict.keys()]):\n",
    "    if len(label_track) == 0:\n",
    "        label_track.append(label)\n",
    "        pos_group_dict[f\"{label}\"] = {}\n",
    "        pos_group_dict[f\"{label}\"][sent_key] = pos_sent_dict[sent_key]\n",
    "    else:\n",
    "        if label not in label_track:\n",
    "            label_track.append(label)\n",
    "            pos_group_dict[f\"{label}\"] = {}\n",
    "            pos_group_dict[f\"{label}\"][sent_key] = pos_sent_dict[sent_key]\n",
    "        else:\n",
    "            pos_group_dict[f\"{label}\"][sent_key] = pos_sent_dict[sent_key]\n",
    "\n",
    "# Average sentence vector for each cluster\n",
    "# For each cluster define a list of cosine similarities w.r.t to the mean sentence vector\n",
    "# Cluster summaries\n",
    "pos_avg_vec_dict = {}\n",
    "pos_cosine_dict = {}\n",
    "\n",
    "for label in set(labels):\n",
    "    sum_vec = np.zeros(300)\n",
    "    for key in pos_group_dict[f\"{label}\"].keys():\n",
    "        sum_vec = sum_vec + pos_group_dict[f\"{label}\"][key][0]\n",
    "    \n",
    "    pos_avg_vec_dict[f\"{label}\"] = np.divide(sum_vec, len(list(pos_group_dict[f\"{label}\"].keys())))\n",
    "    \n",
    "    pos_cosine_dict[f\"{label}\"] = [cosine_function(pos_avg_vec_dict[f\"{label}\"], pos_group_dict[f\"{label}\"][key][0]) for key in pos_group_dict[f\"{label}\"].keys()]\n",
    "\n",
    "    cluster_summary(pos_cosine_dict[f\"{label}\"], label+1)\n"
   ]
  },
  {
   "cell_type": "markdown",
   "metadata": {},
   "source": [
    "###  Determine cluster's 99th percentile cosine similarity, 1% closest vectors to the center of the cluster.\n",
    "\n",
    "### Low values shows, a lot of noise in the cluster and the cluster cannot be generalized to a concept.\n",
    "\n",
    "### High value suggest, a region of vector subspace where most of these vectors are to be found and there a high probability of generalizing the cluster to a concept."
   ]
  },
  {
   "cell_type": "code",
   "execution_count": 11,
   "metadata": {},
   "outputs": [
    {
     "name": "stdout",
     "output_type": "stream",
     "text": [
      "Cosine Similarity Threshold Cluster 1 : 0.9128018018932148\n",
      "Cosine Similarity Threshold Cluster 2 : 0.9574093576671723\n",
      "Cosine Similarity Threshold Cluster 3 : 0.9198052732424303\n",
      "Cosine Similarity Threshold Cluster 4 : 0.9492661813138977\n",
      "Cosine Similarity Threshold Cluster 5 : 0.9170638453092583\n",
      "Cosine Similarity Threshold Cluster 6 : 0.9947596964980617\n"
     ]
    }
   ],
   "source": [
    "percentile = 99\n",
    "for label in set(labels):\n",
    "    cosine_val = np.percentile(pos_cosine_dict[f\"{label}\"], percentile)\n",
    "    print(f\"Cosine Similarity Threshold Cluster {label+1} : {cosine_val}\")"
   ]
  },
  {
   "cell_type": "markdown",
   "metadata": {},
   "source": [
    "### Positive Review Candidate Concepts "
   ]
  },
  {
   "cell_type": "code",
   "execution_count": 12,
   "metadata": {},
   "outputs": [
    {
     "name": "stdout",
     "output_type": "stream",
     "text": [
      "Concept tweets for cluster 1 : \n",
      "\n",
      "['thank you for your help i really hope i can talk spectrum into bringing your services to my area especially with the mobile home park now turning into a family community and and satellite internet really won t cut it for families and i really hope the higher ups see this', 'we hate to see you go hdmi mirroring is supported at this time but we be sure to share the interest in this team', 'sorry for the delay we glad to hear you were able to get in touch and resolve this thanks for the kind words', 'for those of you who saw my story earlier today i am safe i got into a car accident while riding in my and am currently being checked out in the er moments like this make me realize how quickly things in life can change and how lucky i am to be here i thank god', 'will your service go out in the middle of the night like i just want to do homework thanks for reaching out', 'oh no so sorry for any inconvenience this has caused it could have been changed to keep you from if you have a connecting flight but i be happy to take a look at it if you provide your confirmation in a', 'i love this time of year for great deals we have a list of current offers here i d suggest keeping an eye here for anything new that might come along', 'we can help as long as this app supports family sharing you be able to download it by following the steps in our article give them a shot and let us know if this continues', 'you in the right place for help let us know in a if the issue started randomly or since you first setup the watch', 'yes the click and collect service the slots for are going really fast so id like to be the first on for tomorrow to book my slot ...']\n",
      "\n",
      "Concept tweets for cluster 2 : \n",
      "\n",
      "['we glad to hear that sorted out for you have a great day', 'excellent if you have any questions just let us know we always a away', 'thank you for reaching out to us have you tried to restart the device let us know to get started', 'hi loren can you follow and us your order number so we can look into this for you thanks tom', 'counting down the minutes until we can welcome you onboard glad we get to be a part of the adventure with you', 'this is okay where did you get this', 'we would want to speculate into the cause but please send us a so we can look into this further with you', 'hey claudia i am for sure wanting to help you out today we totally understand doing it in the store getting it right there and then', 'i so sorry you did receive your parcel we like a chance to look into this with you here', 'you welcome we can see how that d be handy thanks for taking the time to reach out your feedback been noted']\n",
      "\n",
      "Concept tweets for cluster 3 : \n",
      "\n",
      "['hey i want you to get thanked d shoot me a here and we ll check it out', 'i did i mean yes of course i did i glad it back for you enjoy the -scott', 'sweet looks like a movie night that i can save me here and i got your back', 'i saw this in walmart and picked it up right away i love i know she won t see this but she s inspired me so', 'hey you know what i want for christmas the ability to get where i live .. almost everyone in the city i in would switch', 'incredible i t post my details here it s public while you can t access it being in amazon are you kidding me', 'hi i want to my return flight but when i try my also is please help me thanks', 'i just updated my to its amazing but i have some issues i hope you can help me', 'ok cool the website says the end of october so i was just checking thank you josh i will keep checking', 'thank you so i can switch when my iphone x gets here this friday i ll def will do that for sure']\n",
      "\n",
      "Concept tweets for cluster 4 : \n",
      "\n",
      "['hi there for assistance please follow us and send us a direct message we look forward to your reply', 'i not sure what you mean but i be happy to look into it would you please the full service address and phone number', 'thanks for that info please follow us on twitter and send us a so we can assist you further', 'hello johnny will you please us with your account number so we can better assist you -wayne', 'please us your tracking and contact number via the link so we can look into this for you', 'hi we replied to your please get back to us when you can thanks', 'hi we here to help please us the email linked to your account so we can look into this for you', 'hello and thank you for reaching out please send me a with more information so that i can further assist you', 'hi can you please provide me with an email address that i can contact about my flight booking and', 'my apologies for any issues you currently having i be happy to help anyway we can please your service p ...']\n",
      "\n",
      "Concept tweets for cluster 5 : \n",
      "\n",
      "['si es y a x me me o o en y mi', 'en con la para lo', 'en y para ya ...', 'juan en con para lo', 'adrian si local para en es la', 'para lo en la en con', 'ivan en a para la y', 'en favor es la y en con en la', 'con y en y amazon y en', 'la alejandro en lo es con para mas']\n",
      "\n",
      "Concept tweets for cluster 6 : \n",
      "\n",
      "['thank you', 'thank you', 'great thank you', 'thank you', 'terrific thank you', 'thank you', 'thank you', 'thank you', 'brilliant thank you', 'will do thank you']\n",
      "\n"
     ]
    }
   ],
   "source": [
    "threshold = 0.9\n",
    "list_keys = [key for key in pos_group_dict[f\"{label}\"].keys()]\n",
    "\n",
    "#list_cosine_vec=[pos_cosine_dict[f\"{label}\"][key] for cosine_val in pos_cosine_dict[f\"{label}\"]]\n",
    "concept_list = []\n",
    "\n",
    "for label in set(labels):\n",
    "    concept_tweets = []\n",
    "    list_keys = [key for key in pos_group_dict[f\"{label}\"].keys()]\n",
    "    list_cosine_vec=[cos_val for cos_val in pos_cosine_dict[f\"{label}\"]]\n",
    "    for key, cos_vec in zip(list_keys, list_cosine_vec):\n",
    "        if cos_vec >= threshold:\n",
    "            concept_tweets.append(pos_group_dict[f\"{label}\"][key][1])\n",
    "    concept_list.append(concept_tweets)\n",
    "\n",
    "for idx, label in enumerate(set(labels)):\n",
    "    print(f\"Concept tweets for cluster {label + 1} : \")\n",
    "    print()\n",
    "    print(concept_list[idx][0:10])\n",
    "    print() "
   ]
  },
  {
   "cell_type": "markdown",
   "metadata": {},
   "source": [
    "## Negative Tweets Clustering"
   ]
  },
  {
   "cell_type": "code",
   "execution_count": 13,
   "metadata": {},
   "outputs": [
    {
     "name": "stderr",
     "output_type": "stream",
     "text": [
      "/home/amit/anaconda3/envs/pytorchp36/lib/python3.6/site-packages/sklearn/cluster/_kmeans.py:974: FutureWarning: 'n_jobs' was deprecated in version 0.23 and will be removed in 0.25.\n",
      "  \" removed in 0.25.\", FutureWarning)\n",
      "/home/amit/anaconda3/envs/pytorchp36/lib/python3.6/site-packages/sklearn/cluster/_kmeans.py:974: FutureWarning: 'n_jobs' was deprecated in version 0.23 and will be removed in 0.25.\n",
      "  \" removed in 0.25.\", FutureWarning)\n",
      "/home/amit/anaconda3/envs/pytorchp36/lib/python3.6/site-packages/sklearn/cluster/_kmeans.py:974: FutureWarning: 'n_jobs' was deprecated in version 0.23 and will be removed in 0.25.\n",
      "  \" removed in 0.25.\", FutureWarning)\n",
      "/home/amit/anaconda3/envs/pytorchp36/lib/python3.6/site-packages/sklearn/cluster/_kmeans.py:974: FutureWarning: 'n_jobs' was deprecated in version 0.23 and will be removed in 0.25.\n",
      "  \" removed in 0.25.\", FutureWarning)\n",
      "/home/amit/anaconda3/envs/pytorchp36/lib/python3.6/site-packages/sklearn/cluster/_kmeans.py:974: FutureWarning: 'n_jobs' was deprecated in version 0.23 and will be removed in 0.25.\n",
      "  \" removed in 0.25.\", FutureWarning)\n",
      "/home/amit/anaconda3/envs/pytorchp36/lib/python3.6/site-packages/sklearn/cluster/_kmeans.py:974: FutureWarning: 'n_jobs' was deprecated in version 0.23 and will be removed in 0.25.\n",
      "  \" removed in 0.25.\", FutureWarning)\n",
      "/home/amit/anaconda3/envs/pytorchp36/lib/python3.6/site-packages/sklearn/cluster/_kmeans.py:974: FutureWarning: 'n_jobs' was deprecated in version 0.23 and will be removed in 0.25.\n",
      "  \" removed in 0.25.\", FutureWarning)\n",
      "/home/amit/anaconda3/envs/pytorchp36/lib/python3.6/site-packages/sklearn/cluster/_kmeans.py:974: FutureWarning: 'n_jobs' was deprecated in version 0.23 and will be removed in 0.25.\n",
      "  \" removed in 0.25.\", FutureWarning)\n",
      "/home/amit/anaconda3/envs/pytorchp36/lib/python3.6/site-packages/sklearn/cluster/_kmeans.py:974: FutureWarning: 'n_jobs' was deprecated in version 0.23 and will be removed in 0.25.\n",
      "  \" removed in 0.25.\", FutureWarning)\n",
      "/home/amit/anaconda3/envs/pytorchp36/lib/python3.6/site-packages/sklearn/cluster/_kmeans.py:974: FutureWarning: 'n_jobs' was deprecated in version 0.23 and will be removed in 0.25.\n",
      "  \" removed in 0.25.\", FutureWarning)\n",
      "/home/amit/anaconda3/envs/pytorchp36/lib/python3.6/site-packages/sklearn/cluster/_kmeans.py:974: FutureWarning: 'n_jobs' was deprecated in version 0.23 and will be removed in 0.25.\n",
      "  \" removed in 0.25.\", FutureWarning)\n",
      "/home/amit/anaconda3/envs/pytorchp36/lib/python3.6/site-packages/sklearn/cluster/_kmeans.py:974: FutureWarning: 'n_jobs' was deprecated in version 0.23 and will be removed in 0.25.\n",
      "  \" removed in 0.25.\", FutureWarning)\n",
      "/home/amit/anaconda3/envs/pytorchp36/lib/python3.6/site-packages/sklearn/cluster/_kmeans.py:974: FutureWarning: 'n_jobs' was deprecated in version 0.23 and will be removed in 0.25.\n",
      "  \" removed in 0.25.\", FutureWarning)\n",
      "/home/amit/anaconda3/envs/pytorchp36/lib/python3.6/site-packages/sklearn/cluster/_kmeans.py:974: FutureWarning: 'n_jobs' was deprecated in version 0.23 and will be removed in 0.25.\n",
      "  \" removed in 0.25.\", FutureWarning)\n",
      "/home/amit/anaconda3/envs/pytorchp36/lib/python3.6/site-packages/sklearn/cluster/_kmeans.py:974: FutureWarning: 'n_jobs' was deprecated in version 0.23 and will be removed in 0.25.\n",
      "  \" removed in 0.25.\", FutureWarning)\n",
      "/home/amit/anaconda3/envs/pytorchp36/lib/python3.6/site-packages/sklearn/cluster/_kmeans.py:974: FutureWarning: 'n_jobs' was deprecated in version 0.23 and will be removed in 0.25.\n",
      "  \" removed in 0.25.\", FutureWarning)\n",
      "/home/amit/anaconda3/envs/pytorchp36/lib/python3.6/site-packages/sklearn/cluster/_kmeans.py:974: FutureWarning: 'n_jobs' was deprecated in version 0.23 and will be removed in 0.25.\n",
      "  \" removed in 0.25.\", FutureWarning)\n",
      "/home/amit/anaconda3/envs/pytorchp36/lib/python3.6/site-packages/sklearn/cluster/_kmeans.py:974: FutureWarning: 'n_jobs' was deprecated in version 0.23 and will be removed in 0.25.\n",
      "  \" removed in 0.25.\", FutureWarning)\n",
      "/home/amit/anaconda3/envs/pytorchp36/lib/python3.6/site-packages/sklearn/cluster/_kmeans.py:974: FutureWarning: 'n_jobs' was deprecated in version 0.23 and will be removed in 0.25.\n",
      "  \" removed in 0.25.\", FutureWarning)\n",
      "/home/amit/anaconda3/envs/pytorchp36/lib/python3.6/site-packages/sklearn/cluster/_kmeans.py:974: FutureWarning: 'n_jobs' was deprecated in version 0.23 and will be removed in 0.25.\n",
      "  \" removed in 0.25.\", FutureWarning)\n",
      "/home/amit/anaconda3/envs/pytorchp36/lib/python3.6/site-packages/sklearn/cluster/_kmeans.py:974: FutureWarning: 'n_jobs' was deprecated in version 0.23 and will be removed in 0.25.\n",
      "  \" removed in 0.25.\", FutureWarning)\n",
      "/home/amit/anaconda3/envs/pytorchp36/lib/python3.6/site-packages/sklearn/cluster/_kmeans.py:974: FutureWarning: 'n_jobs' was deprecated in version 0.23 and will be removed in 0.25.\n",
      "  \" removed in 0.25.\", FutureWarning)\n",
      "/home/amit/anaconda3/envs/pytorchp36/lib/python3.6/site-packages/sklearn/cluster/_kmeans.py:974: FutureWarning: 'n_jobs' was deprecated in version 0.23 and will be removed in 0.25.\n",
      "  \" removed in 0.25.\", FutureWarning)\n",
      "/home/amit/anaconda3/envs/pytorchp36/lib/python3.6/site-packages/sklearn/cluster/_kmeans.py:974: FutureWarning: 'n_jobs' was deprecated in version 0.23 and will be removed in 0.25.\n",
      "  \" removed in 0.25.\", FutureWarning)\n",
      "/home/amit/anaconda3/envs/pytorchp36/lib/python3.6/site-packages/sklearn/cluster/_kmeans.py:974: FutureWarning: 'n_jobs' was deprecated in version 0.23 and will be removed in 0.25.\n",
      "  \" removed in 0.25.\", FutureWarning)\n",
      "/home/amit/anaconda3/envs/pytorchp36/lib/python3.6/site-packages/sklearn/cluster/_kmeans.py:974: FutureWarning: 'n_jobs' was deprecated in version 0.23 and will be removed in 0.25.\n",
      "  \" removed in 0.25.\", FutureWarning)\n",
      "/home/amit/anaconda3/envs/pytorchp36/lib/python3.6/site-packages/sklearn/cluster/_kmeans.py:974: FutureWarning: 'n_jobs' was deprecated in version 0.23 and will be removed in 0.25.\n",
      "  \" removed in 0.25.\", FutureWarning)\n",
      "/home/amit/anaconda3/envs/pytorchp36/lib/python3.6/site-packages/sklearn/cluster/_kmeans.py:974: FutureWarning: 'n_jobs' was deprecated in version 0.23 and will be removed in 0.25.\n",
      "  \" removed in 0.25.\", FutureWarning)\n",
      "/home/amit/anaconda3/envs/pytorchp36/lib/python3.6/site-packages/sklearn/cluster/_kmeans.py:974: FutureWarning: 'n_jobs' was deprecated in version 0.23 and will be removed in 0.25.\n",
      "  \" removed in 0.25.\", FutureWarning)\n",
      "/home/amit/anaconda3/envs/pytorchp36/lib/python3.6/site-packages/sklearn/cluster/_kmeans.py:974: FutureWarning: 'n_jobs' was deprecated in version 0.23 and will be removed in 0.25.\n",
      "  \" removed in 0.25.\", FutureWarning)\n",
      "/home/amit/anaconda3/envs/pytorchp36/lib/python3.6/site-packages/sklearn/cluster/_kmeans.py:974: FutureWarning: 'n_jobs' was deprecated in version 0.23 and will be removed in 0.25.\n",
      "  \" removed in 0.25.\", FutureWarning)\n",
      "/home/amit/anaconda3/envs/pytorchp36/lib/python3.6/site-packages/sklearn/cluster/_kmeans.py:974: FutureWarning: 'n_jobs' was deprecated in version 0.23 and will be removed in 0.25.\n",
      "  \" removed in 0.25.\", FutureWarning)\n",
      "/home/amit/anaconda3/envs/pytorchp36/lib/python3.6/site-packages/sklearn/cluster/_kmeans.py:974: FutureWarning: 'n_jobs' was deprecated in version 0.23 and will be removed in 0.25.\n",
      "  \" removed in 0.25.\", FutureWarning)\n",
      "/home/amit/anaconda3/envs/pytorchp36/lib/python3.6/site-packages/sklearn/cluster/_kmeans.py:974: FutureWarning: 'n_jobs' was deprecated in version 0.23 and will be removed in 0.25.\n",
      "  \" removed in 0.25.\", FutureWarning)\n",
      "/home/amit/anaconda3/envs/pytorchp36/lib/python3.6/site-packages/sklearn/cluster/_kmeans.py:974: FutureWarning: 'n_jobs' was deprecated in version 0.23 and will be removed in 0.25.\n",
      "  \" removed in 0.25.\", FutureWarning)\n",
      "/home/amit/anaconda3/envs/pytorchp36/lib/python3.6/site-packages/sklearn/cluster/_kmeans.py:974: FutureWarning: 'n_jobs' was deprecated in version 0.23 and will be removed in 0.25.\n",
      "  \" removed in 0.25.\", FutureWarning)\n",
      "/home/amit/anaconda3/envs/pytorchp36/lib/python3.6/site-packages/sklearn/cluster/_kmeans.py:974: FutureWarning: 'n_jobs' was deprecated in version 0.23 and will be removed in 0.25.\n",
      "  \" removed in 0.25.\", FutureWarning)\n",
      "/home/amit/anaconda3/envs/pytorchp36/lib/python3.6/site-packages/sklearn/cluster/_kmeans.py:974: FutureWarning: 'n_jobs' was deprecated in version 0.23 and will be removed in 0.25.\n",
      "  \" removed in 0.25.\", FutureWarning)\n"
     ]
    },
    {
     "name": "stderr",
     "output_type": "stream",
     "text": [
      "/home/amit/anaconda3/envs/pytorchp36/lib/python3.6/site-packages/sklearn/cluster/_kmeans.py:974: FutureWarning: 'n_jobs' was deprecated in version 0.23 and will be removed in 0.25.\n",
      "  \" removed in 0.25.\", FutureWarning)\n",
      "/home/amit/anaconda3/envs/pytorchp36/lib/python3.6/site-packages/sklearn/cluster/_kmeans.py:974: FutureWarning: 'n_jobs' was deprecated in version 0.23 and will be removed in 0.25.\n",
      "  \" removed in 0.25.\", FutureWarning)\n",
      "/home/amit/anaconda3/envs/pytorchp36/lib/python3.6/site-packages/sklearn/cluster/_kmeans.py:974: FutureWarning: 'n_jobs' was deprecated in version 0.23 and will be removed in 0.25.\n",
      "  \" removed in 0.25.\", FutureWarning)\n",
      "/home/amit/anaconda3/envs/pytorchp36/lib/python3.6/site-packages/sklearn/cluster/_kmeans.py:974: FutureWarning: 'n_jobs' was deprecated in version 0.23 and will be removed in 0.25.\n",
      "  \" removed in 0.25.\", FutureWarning)\n",
      "/home/amit/anaconda3/envs/pytorchp36/lib/python3.6/site-packages/sklearn/cluster/_kmeans.py:974: FutureWarning: 'n_jobs' was deprecated in version 0.23 and will be removed in 0.25.\n",
      "  \" removed in 0.25.\", FutureWarning)\n",
      "/home/amit/anaconda3/envs/pytorchp36/lib/python3.6/site-packages/sklearn/cluster/_kmeans.py:974: FutureWarning: 'n_jobs' was deprecated in version 0.23 and will be removed in 0.25.\n",
      "  \" removed in 0.25.\", FutureWarning)\n",
      "/home/amit/anaconda3/envs/pytorchp36/lib/python3.6/site-packages/sklearn/cluster/_kmeans.py:974: FutureWarning: 'n_jobs' was deprecated in version 0.23 and will be removed in 0.25.\n",
      "  \" removed in 0.25.\", FutureWarning)\n",
      "/home/amit/anaconda3/envs/pytorchp36/lib/python3.6/site-packages/sklearn/cluster/_kmeans.py:974: FutureWarning: 'n_jobs' was deprecated in version 0.23 and will be removed in 0.25.\n",
      "  \" removed in 0.25.\", FutureWarning)\n",
      "/home/amit/anaconda3/envs/pytorchp36/lib/python3.6/site-packages/sklearn/cluster/_kmeans.py:974: FutureWarning: 'n_jobs' was deprecated in version 0.23 and will be removed in 0.25.\n",
      "  \" removed in 0.25.\", FutureWarning)\n",
      "/home/amit/anaconda3/envs/pytorchp36/lib/python3.6/site-packages/sklearn/cluster/_kmeans.py:974: FutureWarning: 'n_jobs' was deprecated in version 0.23 and will be removed in 0.25.\n",
      "  \" removed in 0.25.\", FutureWarning)\n",
      "/home/amit/anaconda3/envs/pytorchp36/lib/python3.6/site-packages/sklearn/cluster/_kmeans.py:974: FutureWarning: 'n_jobs' was deprecated in version 0.23 and will be removed in 0.25.\n",
      "  \" removed in 0.25.\", FutureWarning)\n"
     ]
    },
    {
     "data": {
      "image/png": "[encoded data removed]",
      "text/plain": [
       "<Figure size 432x288 with 1 Axes>"
      ]
     },
     "metadata": {
      "needs_background": "light"
     },
     "output_type": "display_data"
    }
   ],
   "source": [
    "# Clustering Negitive tweets\n",
    "\n",
    "# Use Elbow method to get the number of clusters\n",
    "# GAP statistics, computationally expensive, a good alternative\n",
    "\n",
    "sse = {}\n",
    "X = [neg_sent_dict[key][0] for key in neg_sent_dict.keys()]\n",
    "for k in range(1, 50): \n",
    "    kmeans = cluster.KMeans(n_clusters=k, max_iter=300 , n_jobs = 6).fit(X)\n",
    "    labels = kmeans.labels_\n",
    "    # Inertia: Sum of distances of samples to their closest cluster center\n",
    "    sse[k] = kmeans.inertia_\n",
    "plt.figure()\n",
    "plt.plot(list(sse.keys()), list(sse.values()))\n",
    "plt.xlabel(\"Number of cluster\")\n",
    "plt.ylabel(\"SSE\")\n",
    "plt.show()"
   ]
  },
  {
   "cell_type": "code",
   "execution_count": 15,
   "metadata": {},
   "outputs": [
    {
     "name": "stdout",
     "output_type": "stream",
     "text": [
      "Summary Statistics of Cosine Similairty Distribution CLUSTER 1 --------->\n",
      "\n",
      "Average Cosine similarity : 0.999847084536\n",
      "Max Cosine Similarity : 0.999994443391\n",
      "Min Cosine Similarity : 0.921883337431\n",
      "Standard Deviation of the Cosine similarity Distribution : 0.00116427998548\n"
     ]
    },
    {
     "data": {
      "image/png": "[encoded data removed]",
      "text/plain": [
       "<Figure size 432x288 with 1 Axes>"
      ]
     },
     "metadata": {
      "needs_background": "light"
     },
     "output_type": "display_data"
    },
    {
     "name": "stdout",
     "output_type": "stream",
     "text": [
      "Summary Statistics of Cosine Similairty Distribution CLUSTER 2 --------->\n",
      "\n",
      "Average Cosine similarity : 0.999990531858\n",
      "Max Cosine Similarity : 0.999997874155\n",
      "Min Cosine Similarity : 0.999822459918\n",
      "Standard Deviation of the Cosine similarity Distribution : 1.69516187117e-05\n"
     ]
    },
    {
     "data": {
      "image/png": "[encoded data removed]",
      "text/plain": [
       "<Figure size 432x288 with 1 Axes>"
      ]
     },
     "metadata": {
      "needs_background": "light"
     },
     "output_type": "display_data"
    },
    {
     "name": "stdout",
     "output_type": "stream",
     "text": [
      "Summary Statistics of Cosine Similairty Distribution CLUSTER 3 --------->\n",
      "\n",
      "Average Cosine similarity : 0.999989873203\n",
      "Max Cosine Similarity : 0.999997836088\n",
      "Min Cosine Similarity : 0.999796803816\n",
      "Standard Deviation of the Cosine similarity Distribution : 1.76142057791e-05\n"
     ]
    },
    {
     "data": {
      "image/png": "[encoded data removed]",
      "text/plain": [
       "<Figure size 432x288 with 1 Axes>"
      ]
     },
     "metadata": {
      "needs_background": "light"
     },
     "output_type": "display_data"
    },
    {
     "name": "stdout",
     "output_type": "stream",
     "text": [
      "Summary Statistics of Cosine Similairty Distribution CLUSTER 4 --------->\n",
      "\n",
      "Average Cosine similarity : 0.999993376755\n",
      "Max Cosine Similarity : 0.999998469785\n",
      "Min Cosine Similarity : 0.999912498868\n",
      "Standard Deviation of the Cosine similarity Distribution : 1.32564595213e-05\n"
     ]
    },
    {
     "data": {
      "image/png": "[encoded data removed]",
      "text/plain": [
       "<Figure size 432x288 with 1 Axes>"
      ]
     },
     "metadata": {
      "needs_background": "light"
     },
     "output_type": "display_data"
    },
    {
     "name": "stdout",
     "output_type": "stream",
     "text": [
      "Summary Statistics of Cosine Similairty Distribution CLUSTER 5 --------->\n",
      "\n",
      "Average Cosine similarity : 0.999996473382\n",
      "Max Cosine Similarity : 0.999999409596\n",
      "Min Cosine Similarity : 0.999934855244\n",
      "Standard Deviation of the Cosine similarity Distribution : 9.97558255797e-06\n"
     ]
    },
    {
     "data": {
      "image/png": "[encoded data removed]",
      "text/plain": [
       "<Figure size 432x288 with 1 Axes>"
      ]
     },
     "metadata": {
      "needs_background": "light"
     },
     "output_type": "display_data"
    },
    {
     "name": "stdout",
     "output_type": "stream",
     "text": [
      "Summary Statistics of Cosine Similairty Distribution CLUSTER 6 --------->\n",
      "\n",
      "Average Cosine similarity : 0.999984123951\n",
      "Max Cosine Similarity : 0.999997371368\n",
      "Min Cosine Similarity : 0.999553080049\n",
      "Standard Deviation of the Cosine similarity Distribution : 2.67134864968e-05\n"
     ]
    },
    {
     "data": {
      "image/png": "[encoded data removed]",
      "text/plain": [
       "<Figure size 432x288 with 1 Axes>"
      ]
     },
     "metadata": {
      "needs_background": "light"
     },
     "output_type": "display_data"
    }
   ],
   "source": [
    "NUM_CLUSTERS = 6\n",
    "kmeans = cluster.KMeans(n_clusters=NUM_CLUSTERS)\n",
    "kmeans.fit([neg_sent_dict[key][0] for key in neg_sent_dict.keys()])\n",
    "labels = kmeans.labels_\n",
    "\n",
    "# group_dict -> {\"0\":{\"id1\": vector, ...,  \"id2\": vector}}\n",
    "neg_group_dict = {}\n",
    "# group each of the sentence vectors into groups\n",
    "label_track = []\n",
    "\n",
    "for label, sent_key in zip(labels, [key for key in neg_sent_dict.keys()]):\n",
    "    if len(label_track) == 0:\n",
    "        label_track.append(label)\n",
    "        neg_group_dict[f\"{label}\"] = {}\n",
    "        neg_group_dict[f\"{label}\"][sent_key] = neg_sent_dict[sent_key]\n",
    "    else:\n",
    "        if label not in label_track:\n",
    "            label_track.append(label)\n",
    "            neg_group_dict[f\"{label}\"] = {}\n",
    "            neg_group_dict[f\"{label}\"][sent_key] = neg_sent_dict[sent_key]\n",
    "        else:\n",
    "            neg_group_dict[f\"{label}\"][sent_key] = neg_sent_dict[sent_key]\n",
    "\n",
    "# Average sentence vector for each cluster\n",
    "# For each cluster define a list of cosine similarities w.r.t to the mean sentence vector\n",
    "# Cluster summaries\n",
    "neg_avg_vec_dict = {}\n",
    "neg_cosine_dict = {}\n",
    "\n",
    "for label in set(labels):\n",
    "    sum_vec = np.zeros(300)\n",
    "    for key in neg_group_dict[f\"{label}\"].keys():\n",
    "        sum_vec = sum_vec + neg_group_dict[f\"{label}\"][key][0]\n",
    "    \n",
    "    neg_avg_vec_dict[f\"{label}\"] = np.divide(sum_vec, len(list(neg_group_dict[f\"{label}\"].keys())))\n",
    "    \n",
    "    neg_cosine_dict[f\"{label}\"] = [cosine_function(neg_avg_vec_dict[f\"{label}\"], neg_group_dict[f\"{label}\"][key][0]) for key in neg_group_dict[f\"{label}\"].keys()]\n",
    "\n",
    "    cluster_summary(neg_cosine_dict[f\"{label}\"], label+1)"
   ]
  },
  {
   "cell_type": "markdown",
   "metadata": {},
   "source": [
    "###  Determine cluster's 99th percentile cosine similarity, 1% closest vectors to the center of the cluster.\n",
    "\n",
    "### Low values shows, a lot of noise in the cluster and the cluster cannot be generalized to a concept.\n",
    "\n",
    "### High value suggest, a region of vector subspace where most of these vectors are to be found and there a high probability of generalizing the cluster to a concept."
   ]
  },
  {
   "cell_type": "code",
   "execution_count": 19,
   "metadata": {},
   "outputs": [
    {
     "name": "stdout",
     "output_type": "stream",
     "text": [
      "Cosine Similarity Threshold Cluster 1 : 0.9999941790095311\n",
      "Cosine Similarity Threshold Cluster 2 : 0.999997824681458\n",
      "Cosine Similarity Threshold Cluster 3 : 0.9999977917525481\n",
      "Cosine Similarity Threshold Cluster 4 : 0.9999984370534727\n",
      "Cosine Similarity Threshold Cluster 5 : 0.9999994034395785\n",
      "Cosine Similarity Threshold Cluster 6 : 0.9999971942708892\n"
     ]
    }
   ],
   "source": [
    "percentile = 99\n",
    "for label in set(labels):\n",
    "    cosine_val = np.percentile(neg_cosine_dict[f\"{label}\"], percentile)\n",
    "    print(f\"Cosine Similarity Threshold Cluster {label+1} : {cosine_val}\")"
   ]
  },
  {
   "cell_type": "markdown",
   "metadata": {},
   "source": [
    "### Negative Review Candidate Concepts "
   ]
  },
  {
   "cell_type": "code",
   "execution_count": 20,
   "metadata": {},
   "outputs": [
    {
     "name": "stdout",
     "output_type": "stream",
     "text": [
      "Concept tweets for cluster 1 : \n",
      "\n",
      "['i keep getting this error message saying the item can t be played and how to fix it ...', 'still problems with world series so much for the fix', 'we can definitely take a look send us a with your email address so we can follow up', 'fact ba broke the locks when they t need to just makes while thing more disgraceful', 'nope hours later and i still on standby trying not to cry in the airport', 'which station is this alex', 'oh no please reach out to an for options', 'delta yes i need some for a reservation can i pm you the info', 'second day in a row staying home to wait for a package from only to be met with a slip saying i was home', 'that is no fun what device are you watching the show on are other devices having internet trouble in the home']\n",
      "\n",
      "Concept tweets for cluster 2 : \n",
      "\n",
      "['no ..', 'app log-in', 'waiting ...', 'die double-opt-in', 'multi-use trays', 's ..', 'rout .. dist ..', 'pc router', 'bis ab', 'problem es']\n",
      "\n",
      "Concept tweets for cluster 3 : \n",
      "\n",
      "['mes excuses a', 'overcooked .....', 'waiting ........', 'i a snitch', 'not satisfied', 'same story', 'i hate', 'man so', 'cable out', 'es die']\n",
      "\n",
      "Concept tweets for cluster 4 : \n",
      "\n",
      "['maidenhead superstore', 'no e-mail', 'yum -ac', 'que ishmael', 'hast e-mail', 't-on plait', 'check your', 'worst network', 'late again', 'still disappointed']\n",
      "\n",
      "Concept tweets for cluster 5 : \n",
      "\n",
      "['i-pad air', 'bummer -ac', '.. dank', 'same -ac', 'broken and', '... .. amazon', 'flight- i date- .. mail-', '\"yall\" my', 'e-mail lien', 'days off-line']\n",
      "\n",
      "Concept tweets for cluster 6 : \n",
      "\n",
      "['du den', 'fix it', 'i sent a', 't work', 'error o', 'keyboard lag', 'you suck', 'hours ago', 'die ... was', 'android .. and version ...']\n",
      "\n"
     ]
    }
   ],
   "source": [
    "threshold = 0.9\n",
    "list_keys = [key for key in neg_group_dict[f\"{label}\"].keys()]\n",
    "concept_list = []\n",
    "\n",
    "for label in set(labels):\n",
    "    concept_tweets = []\n",
    "    list_keys = [key for key in neg_group_dict[f\"{label}\"].keys()]\n",
    "    list_cosine_vec=[cos_val for cos_val in neg_cosine_dict[f\"{label}\"]]\n",
    "    for key, cos_vec in zip(list_keys, list_cosine_vec):\n",
    "        if cos_vec >= threshold:\n",
    "            concept_tweets.append(neg_group_dict[f\"{label}\"][key][1])\n",
    "    concept_list.append(concept_tweets)\n",
    "\n",
    "for idx, label in enumerate(set(labels)):\n",
    "    print(f\"Concept tweets for cluster {label + 1} : \")\n",
    "    print()\n",
    "    print(concept_list[idx][0:10])\n",
    "    print() "
   ]
  },
  {
   "cell_type": "code",
   "execution_count": null,
   "metadata": {},
   "outputs": [],
   "source": []
  }
 ],
 "metadata": {
  "kernelspec": {
   "display_name": "Python 3",
   "language": "python",
   "name": "python3"
  },
  "language_info": {
   "codemirror_mode": {
    "name": "ipython",
    "version": 3
   },
   "file_extension": ".py",
   "mimetype": "text/x-python",
   "name": "python",
   "nbconvert_exporter": "python",
   "pygments_lexer": "ipython3",
   "version": "3.6.9"
  }
 },
 "nbformat": 4,
 "nbformat_minor": 4
}
